{
 "cells": [
  {
   "cell_type": "code",
   "execution_count": 1,
   "metadata": {},
   "outputs": [],
   "source": [
    "%load_ext autoreload\n",
    "%autoreload 2"
   ]
  },
  {
   "cell_type": "code",
   "execution_count": 2,
   "metadata": {},
   "outputs": [
    {
     "data": {
      "text/plain": [
       "'4.2.0'"
      ]
     },
     "execution_count": 2,
     "metadata": {},
     "output_type": "execute_result"
    }
   ],
   "source": [
    "import numpy as np\n",
    "from os.path import join\n",
    "\n",
    "from jupyter_utils.progress_bar import ProgressBar\n",
    "\n",
    "from nabirds import CUB_Annotations, NAB_Annotations\n",
    "from nabirds.dataset import RevealedPartMixin, CroppedPartMixin, AnnotationsReadMixin\n",
    "\n",
    "from chainer_addons.models import ResnetLayers, InceptionV3, VGG19Layers\n",
    "from chainer_addons.dataset import PreprocessMixin\n",
    "\n",
    "from chainer import cuda\n",
    "from chainer.iterators import MultithreadIterator\n",
    "from chainer.dataset.convert import concat_examples\n",
    "\n",
    "import chainer\n",
    "chainer.__version__"
   ]
  },
  {
   "cell_type": "code",
   "execution_count": 22,
   "metadata": {},
   "outputs": [],
   "source": [
    "BASE_DIR = \"/home/korsch/Data\"\n",
    "\n",
    "ARCH=\"resnet\"\n",
    "DATA=\"cub200_11\"\n",
    "\n",
    "DATA_DIR = join(BASE_DIR, \"DATASETS\", \"birds\", DATA)\n",
    "WEIGHTS = join(BASE_DIR, \"MODELS\", ARCH, \"ft_cub200\", \"model.npz\")\n",
    "\n",
    "\n",
    "DATASETS = dict(\n",
    "    cub200_11=CUB_Annotations,\n",
    "    nabirds=NAB_Annotations,\n",
    ")\n",
    "\n",
    "LABEL_SHIFT = 1\n",
    "\n",
    "MODELS = dict(\n",
    "    resnet=ResnetLayers,\n",
    "    inception=InceptionV3,\n",
    "    vgg19=VGG19Layers,\n",
    ")\n",
    "\n",
    "model_cls = MODELS.get(ARCH)\n",
    "annot_cls = DATASETS.get(DATA)\n",
    "\n",
    "GPU = 1\n",
    "\n",
    "RATIO = 1 / 5\n",
    "SIZE = None\n"
   ]
  },
  {
   "cell_type": "code",
   "execution_count": 4,
   "metadata": {},
   "outputs": [],
   "source": [
    "from abc import ABC\n",
    "\n",
    "import matplotlib.pyplot as plt\n",
    "\n",
    "class _mixin(ABC):\n",
    "    def get_example(self, i):\n",
    "        im_obj = super(_mixin, self).get_example(i)\n",
    "        im, parts, lab = im_obj.as_tuple()\n",
    "        root = im_obj\n",
    "        while root.parent is not None:\n",
    "            root = root.parent\n",
    "        self.original = self.preprocess(root.im)\n",
    "        return im, lab\n",
    "    \n",
    "class Dataset(\n",
    "    PreprocessMixin, _mixin,\n",
    "    CroppedPartMixin, AnnotationsReadMixin):\n",
    "    \n",
    "    def get_example(self, i):\n",
    "        im, lab = super(Dataset, self).get_example(i)\n",
    "        im = np.vstack([im, self.original[None]])\n",
    "        return im, lab\n",
    "        \n",
    "    def __init__(self, split, annot, *args, **kw):\n",
    "        global model_cls\n",
    "        super(Dataset, self).__init__(\n",
    "            annotations=annot,\n",
    "            uuids=annot.uuids[split],\n",
    "            \n",
    "            size=SIZE or model_cls.meta.input_size,\n",
    "            preprocess=model_cls.prepare,\n",
    "            \n",
    "            crop_to_bb=False,\n",
    "            crop_uniform=True,\n",
    "            \n",
    "            uniform_parts=True,\n",
    "            ratio=RATIO,\n",
    "            parts_in_bb=False,\n",
    "            \n",
    "            return_part_crops=True,\n",
    "            *args, **kw\n",
    "        )"
   ]
  },
  {
   "cell_type": "code",
   "execution_count": 13,
   "metadata": {},
   "outputs": [
    {
     "name": "stdout",
     "output_type": "stream",
     "text": [
      "Loading annotations\n",
      "Creating train and test datasets\n",
      "Loaded 5994 train and 5794 test samples with 201 classes\n",
      "CPU times: user 708 ms, sys: 46.7 ms, total: 755 ms\n",
      "Wall time: 755 ms\n"
     ]
    }
   ],
   "source": [
    "%%time\n",
    "print(\"Loading annotations\")\n",
    "annot = annot_cls(DATA_DIR)\n",
    "\n",
    "print(\"Creating train and test datasets\")\n",
    "train, test = [Dataset(s, annot) for s in [annot.train_split, annot.test_split]]\n",
    "\n",
    "n_classes = LABEL_SHIFT + len(np.unique(annot.labels))\n",
    "\n",
    "print(\"Loaded {} train and {} test samples with {} classes\".format(len(train), len(test), n_classes))"
   ]
  },
  {
   "cell_type": "code",
   "execution_count": 14,
   "metadata": {},
   "outputs": [],
   "source": [
    "model = model_cls()\n",
    "model.load_for_inference(weights=WEIGHTS, n_classes=n_classes)\n",
    "\n",
    "if GPU >= 0:\n",
    "    cuda.get_device(GPU).use()\n",
    "    model.to_gpu(GPU)"
   ]
  },
  {
   "cell_type": "code",
   "execution_count": 15,
   "metadata": {
    "scrolled": false
   },
   "outputs": [
    {
     "data": {
      "application/vnd.jupyter.widget-view+json": {
       "model_id": "95c1565d65484983952cb92e024624d8",
       "version_major": 2,
       "version_minor": 0
      },
      "text/plain": [
       "VBox(children=(HTML(value=''), IntProgress(value=0, max=1)))"
      ]
     },
     "metadata": {},
     "output_type": "display_data"
    },
    {
     "data": {
      "application/vnd.jupyter.widget-view+json": {
       "model_id": "cf9f4e1a06004df0bee4cd3c750b05c9",
       "version_major": 2,
       "version_minor": 0
      },
      "text/plain": [
       "VBox(children=(HTML(value=''), IntProgress(value=0, max=1)))"
      ]
     },
     "metadata": {},
     "output_type": "display_data"
    }
   ],
   "source": [
    "def extract(data, n_jobs=None):\n",
    "    bar = ProgressBar()\n",
    "    feats = None\n",
    "    n_samples = len(data)\n",
    "    it = MultithreadIterator(data, batch_size=1, repeat=False, shuffle=False, n_threads=n_jobs)\n",
    "    for i, batch in enumerate(bar(it, every=1, size=n_samples)):\n",
    "        X, y = concat_examples(batch, device=GPU)\n",
    "        # number of parts is our batch size!\n",
    "        X = X[0]\n",
    "        if feats is None:\n",
    "            n_parts = X.shape[0]\n",
    "            feat_size = model_cls.meta.feature_size\n",
    "            feats = np.zeros((n_samples, n_parts, feat_size), dtype=np.float32)\n",
    "        \n",
    "        part_feats = model(X, layer_name=model_cls.meta.feature_layer)\n",
    "        part_feats.to_cpu()\n",
    "        \n",
    "        feats[i] = part_feats.array\n",
    "    \n",
    "    return feats\n",
    "\n",
    "\n",
    "with chainer.using_config(\"train\", False), chainer.no_backprop_mode():\n",
    "    train_feats = extract(train)\n",
    "    test_feats = extract(test)"
   ]
  },
  {
   "cell_type": "code",
   "execution_count": 23,
   "metadata": {},
   "outputs": [],
   "source": [
    "n_parts = int(1 / RATIO)**2 + 1\n",
    "fmt = \"{}_{}parts_uniform_{}.npz\"\n",
    "LOAD = True"
   ]
  },
  {
   "cell_type": "code",
   "execution_count": null,
   "metadata": {},
   "outputs": [],
   "source": [
    "def dataset_params(data):\n",
    "    return dict(\n",
    "        crop_to_bb=data.crop_to_bb,\n",
    "        crop_uniform=data.crop_uniform,\n",
    "        uniform_parts=data.uniform_parts,\n",
    "        size=data.size,\n",
    "        ratio=data.ratio,\n",
    "    )"
   ]
  },
  {
   "cell_type": "code",
   "execution_count": 24,
   "metadata": {},
   "outputs": [
    {
     "name": "stdout",
     "output_type": "stream",
     "text": [
      "CPU times: user 5.73 s, sys: 1.9 s, total: 7.63 s\n",
      "Wall time: 7.6 s\n"
     ]
    }
   ],
   "source": [
    "%%time \n",
    "if LOAD:\n",
    "    train_feats = np.load(fmt.format(\"train\", n_parts, ARCH))[\"features\"]\n",
    "    test_feats = np.load(fmt.format(\"val\", n_parts, ARCH))[\"features\"]\n",
    "else:\n",
    "    np.savez(join(\"output\", fmt.format(\"train\", n_parts, ARCH)), \n",
    "             features=train_feats, \n",
    "             **dataset_params(train))\n",
    "    np.savez(join(\"output\", fmt.format(\"val\", n_parts, ARCH)), \n",
    "             features=test_feats, \n",
    "             **dataset_params(test))"
   ]
  },
  {
   "cell_type": "code",
   "execution_count": 30,
   "metadata": {},
   "outputs": [
    {
     "data": {
      "text/plain": [
       "(5794, 26, 4096)"
      ]
     },
     "execution_count": 30,
     "metadata": {},
     "output_type": "execute_result"
    }
   ],
   "source": [
    "test_feats.shape"
   ]
  },
  {
   "cell_type": "markdown",
   "metadata": {},
   "source": [
    "# Train a baseline SVM"
   ]
  },
  {
   "cell_type": "code",
   "execution_count": 19,
   "metadata": {},
   "outputs": [
    {
     "name": "stdout",
     "output_type": "stream",
     "text": [
      "CPU times: user 16min 8s, sys: 1.9 s, total: 16min 10s\n",
      "Wall time: 16min 3s\n"
     ]
    },
    {
     "data": {
      "text/plain": [
       "LinearSVC(C=1.0, class_weight=None, dual=True, fit_intercept=True,\n",
       "     intercept_scaling=1, loss='squared_hinge', max_iter=1000,\n",
       "     multi_class='ovr', penalty='l2', random_state=None, tol=0.0001,\n",
       "     verbose=0)"
      ]
     },
     "execution_count": 19,
     "metadata": {},
     "output_type": "execute_result"
    }
   ],
   "source": [
    "from sklearn.svm import LinearSVC\n",
    "\n",
    "clf = LinearSVC()\n",
    "y, y_test = annot.labels[annot.train_split], annot.labels[annot.test_split]\n",
    "%time clf.fit(train_feats.reshape(len(train_feats), -1), y)"
   ]
  },
  {
   "cell_type": "code",
   "execution_count": 20,
   "metadata": {},
   "outputs": [
    {
     "name": "stdout",
     "output_type": "stream",
     "text": [
      "CPU times: user 17.4 s, sys: 5.27 s, total: 22.7 s\n",
      "Wall time: 1.69 s\n"
     ]
    },
    {
     "data": {
      "text/plain": [
       "1.0"
      ]
     },
     "execution_count": 20,
     "metadata": {},
     "output_type": "execute_result"
    }
   ],
   "source": [
    "%time clf.score(train_feats.reshape(len(train_feats), -1), y)"
   ]
  },
  {
   "cell_type": "code",
   "execution_count": 21,
   "metadata": {},
   "outputs": [
    {
     "name": "stdout",
     "output_type": "stream",
     "text": [
      "CPU times: user 16.5 s, sys: 4.86 s, total: 21.3 s\n",
      "Wall time: 1.57 s\n"
     ]
    },
    {
     "data": {
      "text/plain": [
       "0.7340352088367277"
      ]
     },
     "execution_count": 21,
     "metadata": {},
     "output_type": "execute_result"
    }
   ],
   "source": [
    "%time clf.score(test_feats.reshape(len(test_feats), -1), y_test)"
   ]
  },
  {
   "cell_type": "code",
   "execution_count": null,
   "metadata": {},
   "outputs": [],
   "source": []
  },
  {
   "cell_type": "code",
   "execution_count": 25,
   "metadata": {},
   "outputs": [
    {
     "name": "stdout",
     "output_type": "stream",
     "text": [
      "CPU times: user 18min 55s, sys: 2.93 s, total: 18min 57s\n",
      "Wall time: 18min 49s\n"
     ]
    },
    {
     "data": {
      "text/plain": [
       "LinearSVC(C=1.0, class_weight=None, dual=True, fit_intercept=True,\n",
       "     intercept_scaling=1, loss='squared_hinge', max_iter=1000,\n",
       "     multi_class='ovr', penalty='l2', random_state=None, tol=0.0001,\n",
       "     verbose=0)"
      ]
     },
     "execution_count": 25,
     "metadata": {},
     "output_type": "execute_result"
    }
   ],
   "source": [
    "from sklearn.svm import LinearSVC\n",
    "\n",
    "clf = LinearSVC()\n",
    "y, y_test = annot.labels[annot.train_split], annot.labels[annot.test_split]\n",
    "%time clf.fit(train_feats.reshape(len(train_feats), -1), y)"
   ]
  },
  {
   "cell_type": "code",
   "execution_count": 26,
   "metadata": {},
   "outputs": [
    {
     "name": "stdout",
     "output_type": "stream",
     "text": [
      "CPU times: user 33.7 s, sys: 7.82 s, total: 41.5 s\n",
      "Wall time: 3.22 s\n"
     ]
    },
    {
     "data": {
      "text/plain": [
       "1.0"
      ]
     },
     "execution_count": 26,
     "metadata": {},
     "output_type": "execute_result"
    }
   ],
   "source": [
    "%time clf.score(train_feats.reshape(len(train_feats), -1), y)"
   ]
  },
  {
   "cell_type": "code",
   "execution_count": 27,
   "metadata": {},
   "outputs": [
    {
     "name": "stdout",
     "output_type": "stream",
     "text": [
      "CPU times: user 32.7 s, sys: 7.89 s, total: 40.5 s\n",
      "Wall time: 3.12 s\n"
     ]
    },
    {
     "data": {
      "text/plain": [
       "0.6839834311356576"
      ]
     },
     "execution_count": 27,
     "metadata": {},
     "output_type": "execute_result"
    }
   ],
   "source": [
    "%time clf.score(test_feats.reshape(len(test_feats), -1), y_test)"
   ]
  },
  {
   "cell_type": "code",
   "execution_count": 29,
   "metadata": {},
   "outputs": [
    {
     "data": {
      "text/plain": [
       "(5794, 26, 4096)"
      ]
     },
     "execution_count": 29,
     "metadata": {},
     "output_type": "execute_result"
    }
   ],
   "source": [
    "test_feats.shape"
   ]
  },
  {
   "cell_type": "code",
   "execution_count": null,
   "metadata": {},
   "outputs": [],
   "source": []
  }
 ],
 "metadata": {
  "kernelspec": {
   "display_name": "Python 3",
   "language": "python",
   "name": "python3"
  },
  "language_info": {
   "codemirror_mode": {
    "name": "ipython",
    "version": 3
   },
   "file_extension": ".py",
   "mimetype": "text/x-python",
   "name": "python",
   "nbconvert_exporter": "python",
   "pygments_lexer": "ipython3",
   "version": "3.6.5"
  }
 },
 "nbformat": 4,
 "nbformat_minor": 2
}
